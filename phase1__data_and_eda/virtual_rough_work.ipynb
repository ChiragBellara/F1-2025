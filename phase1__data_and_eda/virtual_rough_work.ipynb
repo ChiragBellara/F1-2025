{
 "cells": [
  {
   "cell_type": "code",
   "execution_count": 1,
   "id": "6f8c815b",
   "metadata": {},
   "outputs": [],
   "source": [
    "import fastf1\n",
    "from fastf1 import plotting\n",
    "from fastf1.ergast import Ergast\n",
    "import pandas as pd\n",
    "import numpy as np\n",
    "import matplotlib.pyplot as plt"
   ]
  },
  {
   "cell_type": "code",
   "execution_count": 2,
   "id": "39101f7a",
   "metadata": {},
   "outputs": [],
   "source": [
    "fastf1.Cache.enable_cache(\"../f1_cache\")"
   ]
  },
  {
   "cell_type": "code",
   "execution_count": 3,
   "id": "a620a230",
   "metadata": {},
   "outputs": [],
   "source": [
    "year = 2024\n",
    "race_name = \"Belgium\""
   ]
  },
  {
   "cell_type": "code",
   "execution_count": 4,
   "id": "fcfdd100",
   "metadata": {},
   "outputs": [
    {
     "name": "stderr",
     "output_type": "stream",
     "text": [
      "core           INFO \tLoading data for Belgian Grand Prix - Race [v3.5.3]\n",
      "req            INFO \tNo cached data found for session_info. Loading data...\n",
      "_api           INFO \tFetching session info data...\n",
      "req            INFO \tData has been written to cache!\n",
      "req            INFO \tNo cached data found for driver_info. Loading data...\n",
      "_api           INFO \tFetching driver list...\n",
      "req            INFO \tData has been written to cache!\n",
      "req            INFO \tNo cached data found for session_status_data. Loading data...\n",
      "_api           INFO \tFetching session status data...\n",
      "req            INFO \tData has been written to cache!\n",
      "req            INFO \tNo cached data found for lap_count. Loading data...\n",
      "_api           INFO \tFetching lap count data...\n",
      "req            INFO \tData has been written to cache!\n",
      "req            INFO \tNo cached data found for track_status_data. Loading data...\n",
      "_api           INFO \tFetching track status data...\n",
      "req            INFO \tData has been written to cache!\n",
      "req            INFO \tNo cached data found for _extended_timing_data. Loading data...\n",
      "_api           INFO \tFetching timing data...\n",
      "_api           INFO \tParsing timing data...\n",
      "req            INFO \tData has been written to cache!\n",
      "req            INFO \tNo cached data found for timing_app_data. Loading data...\n",
      "_api           INFO \tFetching timing app data...\n",
      "req            INFO \tData has been written to cache!\n",
      "core           INFO \tProcessing timing data...\n",
      "req            INFO \tNo cached data found for car_data. Loading data...\n",
      "_api           INFO \tFetching car data...\n",
      "_api           INFO \tParsing car data...\n",
      "req            INFO \tData has been written to cache!\n",
      "req            INFO \tNo cached data found for position_data. Loading data...\n",
      "_api           INFO \tFetching position data...\n",
      "_api           INFO \tParsing position data...\n",
      "req            INFO \tData has been written to cache!\n",
      "req            INFO \tNo cached data found for weather_data. Loading data...\n",
      "_api           INFO \tFetching weather data...\n",
      "req            INFO \tData has been written to cache!\n",
      "req            INFO \tNo cached data found for race_control_messages. Loading data...\n",
      "_api           INFO \tFetching race control messages...\n",
      "req            INFO \tData has been written to cache!\n",
      "core           INFO \tFinished loading data for 20 drivers: ['44', '81', '16', '1', '4', '55', '11', '14', '31', '3', '18', '23', '10', '20', '77', '22', '2', '27', '24', '63']\n"
     ]
    }
   ],
   "source": [
    "race = fastf1.get_session(year, race_name, \"R\")\n",
    "race.load()"
   ]
  },
  {
   "cell_type": "code",
   "execution_count": 6,
   "id": "c6ff946b",
   "metadata": {},
   "outputs": [
    {
     "data": {
      "text/html": [
       "<div>\n",
       "<style scoped>\n",
       "    .dataframe tbody tr th:only-of-type {\n",
       "        vertical-align: middle;\n",
       "    }\n",
       "\n",
       "    .dataframe tbody tr th {\n",
       "        vertical-align: top;\n",
       "    }\n",
       "\n",
       "    .dataframe thead th {\n",
       "        text-align: right;\n",
       "    }\n",
       "</style>\n",
       "<table border=\"1\" class=\"dataframe\">\n",
       "  <thead>\n",
       "    <tr style=\"text-align: right;\">\n",
       "      <th></th>\n",
       "      <th>Time</th>\n",
       "      <th>AirTemp</th>\n",
       "      <th>Humidity</th>\n",
       "      <th>Pressure</th>\n",
       "      <th>TrackTemp</th>\n",
       "      <th>WindDirection</th>\n",
       "      <th>WindSpeed</th>\n",
       "    </tr>\n",
       "    <tr>\n",
       "      <th>Rainfall</th>\n",
       "      <th></th>\n",
       "      <th></th>\n",
       "      <th></th>\n",
       "      <th></th>\n",
       "      <th></th>\n",
       "      <th></th>\n",
       "      <th></th>\n",
       "    </tr>\n",
       "  </thead>\n",
       "  <tbody>\n",
       "    <tr>\n",
       "      <th>False</th>\n",
       "      <td>0 days 01:08:14.308802919</td>\n",
       "      <td>21.328467</td>\n",
       "      <td>49.583942</td>\n",
       "      <td>978.09635</td>\n",
       "      <td>42.267153</td>\n",
       "      <td>140.985401</td>\n",
       "      <td>1.683212</td>\n",
       "    </tr>\n",
       "  </tbody>\n",
       "</table>\n",
       "</div>"
      ],
      "text/plain": [
       "                              Time    AirTemp   Humidity   Pressure  \\\n",
       "Rainfall                                                              \n",
       "False    0 days 01:08:14.308802919  21.328467  49.583942  978.09635   \n",
       "\n",
       "          TrackTemp  WindDirection  WindSpeed  \n",
       "Rainfall                                       \n",
       "False     42.267153     140.985401   1.683212  "
      ]
     },
     "execution_count": 6,
     "metadata": {},
     "output_type": "execute_result"
    }
   ],
   "source": [
    "weather = race.weather_data\n",
    "weather.groupby([\"Rainfall\"]).mean()"
   ]
  },
  {
   "cell_type": "code",
   "execution_count": 8,
   "id": "a6b06bf9",
   "metadata": {},
   "outputs": [],
   "source": [
    "track_miles = {\n",
    "    \"Spa\": 4.352,\n",
    "    \"Baku\": 3.73,\n",
    "    \"Silverstone\": 3.66,\n",
    "    \"Sochi\": 3.634,\n",
    "    \"Paul Ricard\": 3.63,\n",
    "    \"Suzuka\": 3.608,\n",
    "    \"Monza\": 3.6,\n",
    "    \"Yas Marina\": 3.451,\n",
    "    \"COTA\": 3.426,\n",
    "    \"Shanghai\": 3.387,\n",
    "    \"Bahrain\": 3.363,\n",
    "    \"Melbourne\": 3.295,\n",
    "    \"Singapore\": 3.147,\n",
    "    \"Catalunya\": 2.892,\n",
    "    \"Hockenheim\": 2.842,\n",
    "    \"Hungaroring\": 2.722,\n",
    "    \"Montreal\": 2.71,\n",
    "    \"Red Bull Ring\": 2.683,\n",
    "    \"Interlagos\": 2.677,\n",
    "    \"Mexico City\": 2.674,\n",
    "    \"Monaco\": 2.074\n",
    "}\n",
    "\n",
    "track_km = {\n",
    "    \"Spa\": 7.004,\n",
    "    \"Baku\": 6.003,\n",
    "    \"Silverstone\": 5.891,\n",
    "    \"Sochi\": 5.848,\n",
    "    \"Paul Ricard\": 5.841,\n",
    "    \"Suzuka\": 5.807,\n",
    "    \"Monza\": 5.793,\n",
    "    \"Yas Marina\": 5.554,\n",
    "    \"COTA\": 5.513,\n",
    "    \"Shanghai\": 5.451,\n",
    "    \"Bahrain\": 5.412,\n",
    "    \"Melbourne\": 5.303,\n",
    "    \"Singapore\": 5.065,\n",
    "    \"Catalunya\": 4.655,\n",
    "    \"Hockenheim\": 4.574,\n",
    "    \"Hungaroring\": 4.381,\n",
    "    \"Montreal\": 4.361,\n",
    "    \"Red Bull Ring\": 4.318,\n",
    "    \"Interlagos\": 4.309,\n",
    "    \"Mexico City\": 4.304,\n",
    "    \"Monaco\": 3.337\n",
    "}"
   ]
  },
  {
   "cell_type": "code",
   "execution_count": 9,
   "id": "e431bd4e",
   "metadata": {},
   "outputs": [
    {
     "name": "stderr",
     "output_type": "stream",
     "text": [
      "logger      WARNING \tFailed to load schedule from FastF1 backend!\n",
      "req            INFO \tUsing cached data for season_schedule\n",
      "core           INFO \tLoading data for Belgian Grand Prix - Qualifying [v3.5.3]\n",
      "req            INFO \tUsing cached data for session_info\n",
      "req            INFO \tUsing cached data for driver_info\n",
      "req            INFO \tUsing cached data for session_status_data\n",
      "req            INFO \tUsing cached data for track_status_data\n",
      "req            INFO \tUsing cached data for _extended_timing_data\n",
      "req            INFO \tUsing cached data for timing_app_data\n",
      "core           INFO \tProcessing timing data...\n",
      "req            INFO \tUsing cached data for car_data\n",
      "req            INFO \tUsing cached data for position_data\n",
      "req            INFO \tUsing cached data for weather_data\n",
      "req            INFO \tUsing cached data for race_control_messages\n",
      "core           INFO \tFinished loading data for 20 drivers: ['1', '16', '11', '44', '4', '81', '63', '55', '14', '31', '23', '10', '3', '77', '18', '27', '20', '22', '2', '24']\n"
     ]
    }
   ],
   "source": [
    "quali = fastf1.get_session(year, race_name, \"Q\")\n",
    "quali.load()"
   ]
  },
  {
   "cell_type": "code",
   "execution_count": 17,
   "id": "54709a57",
   "metadata": {},
   "outputs": [
    {
     "name": "stderr",
     "output_type": "stream",
     "text": [
      "/opt/homebrew/lib/python3.11/site-packages/fastf1/core.py:3067: FutureWarning: pick_driver is deprecated and will be removed in a future release. Use pick_drivers instead.\n",
      "  warnings.warn((\"pick_driver is deprecated and will be removed\"\n"
     ]
    }
   ],
   "source": [
    "laps = quali.laps.pick_driver(\"VER\").pick_accurate()\n",
    "driver_best = laps[~laps['PitOutTime'].notna() & ~laps['PitInTime'].notna() & laps['IsPersonalBest'] == True].pick_fastest()\n",
    "quali_time = driver_best.LapTime.total_seconds()"
   ]
  },
  {
   "cell_type": "code",
   "execution_count": 19,
   "id": "3542181e",
   "metadata": {},
   "outputs": [
    {
     "name": "stderr",
     "output_type": "stream",
     "text": [
      "/opt/homebrew/lib/python3.11/site-packages/fastf1/core.py:3067: FutureWarning: pick_driver is deprecated and will be removed in a future release. Use pick_drivers instead.\n",
      "  warnings.warn((\"pick_driver is deprecated and will be removed\"\n"
     ]
    }
   ],
   "source": [
    "race_laps = race.laps.pick_driver(\"VER\").pick_accurate()\n",
    "race_laps = race_laps[~race_laps['PitOutTime'].notna() & ~race_laps['PitInTime'].notna()]"
   ]
  },
  {
   "cell_type": "code",
   "execution_count": 30,
   "id": "5b9fbca4",
   "metadata": {},
   "outputs": [
    {
     "name": "stderr",
     "output_type": "stream",
     "text": [
      "/opt/homebrew/lib/python3.11/site-packages/fastf1/core.py:3067: FutureWarning: pick_driver is deprecated and will be removed in a future release. Use pick_drivers instead.\n",
      "  warnings.warn((\"pick_driver is deprecated and will be removed\"\n"
     ]
    },
    {
     "data": {
      "text/plain": [
       "113.159"
      ]
     },
     "execution_count": 30,
     "metadata": {},
     "output_type": "execute_result"
    }
   ],
   "source": [
    "quali_laps = quali.laps.pick_driver(\"VER\").pick_accurate()\n",
    "driver_best = quali_laps[~quali_laps['PitOutTime'].notna(\n",
    ") & ~quali_laps['PitInTime'].notna() & quali_laps['IsPersonalBest'] == True].pick_fastest()\n",
    "quali_time = driver_best.LapTime.total_seconds()\n",
    "\n",
    "quali_time\n"
   ]
  },
  {
   "cell_type": "code",
   "execution_count": 32,
   "id": "951b32c4",
   "metadata": {},
   "outputs": [
    {
     "name": "stderr",
     "output_type": "stream",
     "text": [
      "/opt/homebrew/lib/python3.11/site-packages/fastf1/core.py:3067: FutureWarning: pick_driver is deprecated and will be removed in a future release. Use pick_drivers instead.\n",
      "  warnings.warn((\"pick_driver is deprecated and will be removed\"\n"
     ]
    }
   ],
   "source": [
    "drv = \"VER\"\n",
    "race_laps = race.laps.pick_driver(drv).pick_accurate()\n",
    "race_laps = race_laps[~race_laps['PitOutTime'].notna(\n",
    ") & ~race_laps['PitInTime'].notna()]\n",
    "avg_lap_time = race_laps['LapTime'].mean().total_seconds()\n",
    "compound_counts = race_laps['Compound'].value_counts(\n",
    ").to_dict()\n",
    "compound_used = max(compound_counts, key=compound_counts.get)\n",
    "avg_sector_one = race_laps[\"Sector1Time\"].dt.total_seconds(\n",
    ").mean()\n",
    "avg_sector_two = race_laps[\"Sector2Time\"].dt.total_seconds(\n",
    ").mean()\n",
    "avg_sector_three = race_laps[\"Sector3Time\"].dt.total_seconds(\n",
    ").mean()\n",
    "driver_team = race.get_driver(drv)['TeamName']"
   ]
  },
  {
   "cell_type": "code",
   "execution_count": 33,
   "id": "e96c2dce",
   "metadata": {},
   "outputs": [
    {
     "data": {
      "text/plain": [
       "29.046538461538457"
      ]
     },
     "execution_count": 33,
     "metadata": {},
     "output_type": "execute_result"
    }
   ],
   "source": [
    "avg_sector_three"
   ]
  },
  {
   "cell_type": "code",
   "execution_count": 35,
   "id": "800ad148",
   "metadata": {},
   "outputs": [
    {
     "data": {
      "text/html": [
       "<div>\n",
       "<style scoped>\n",
       "    .dataframe tbody tr th:only-of-type {\n",
       "        vertical-align: middle;\n",
       "    }\n",
       "\n",
       "    .dataframe tbody tr th {\n",
       "        vertical-align: top;\n",
       "    }\n",
       "\n",
       "    .dataframe thead th {\n",
       "        text-align: right;\n",
       "    }\n",
       "</style>\n",
       "<table border=\"1\" class=\"dataframe\">\n",
       "  <thead>\n",
       "    <tr style=\"text-align: right;\">\n",
       "      <th></th>\n",
       "      <th>Year</th>\n",
       "      <th>Race</th>\n",
       "      <th>Driver</th>\n",
       "      <th>Team</th>\n",
       "      <th>QualiTime</th>\n",
       "      <th>RaceTimeAvg</th>\n",
       "      <th>Compound</th>\n",
       "      <th>Sector1Avg</th>\n",
       "      <th>Sector2Avg</th>\n",
       "      <th>Sector3Avg</th>\n",
       "      <th>AirTemp</th>\n",
       "      <th>TrackTemp</th>\n",
       "      <th>Humidity</th>\n",
       "      <th>WindSpeed</th>\n",
       "      <th>TrackLengthKM</th>\n",
       "    </tr>\n",
       "  </thead>\n",
       "  <tbody>\n",
       "    <tr>\n",
       "      <th>0</th>\n",
       "      <td>2022</td>\n",
       "      <td>Belgium</td>\n",
       "      <td>1</td>\n",
       "      <td>Red Bull Racing</td>\n",
       "      <td>103.665</td>\n",
       "      <td>112.384750</td>\n",
       "      <td>MEDIUM</td>\n",
       "      <td>32.071028</td>\n",
       "      <td>49.834972</td>\n",
       "      <td>30.478750</td>\n",
       "      <td>21.787179</td>\n",
       "      <td>36.083974</td>\n",
       "      <td>40.519231</td>\n",
       "      <td>1.519231</td>\n",
       "      <td>7.004</td>\n",
       "    </tr>\n",
       "    <tr>\n",
       "      <th>1</th>\n",
       "      <td>2022</td>\n",
       "      <td>Belgium</td>\n",
       "      <td>55</td>\n",
       "      <td>Ferrari</td>\n",
       "      <td>104.297</td>\n",
       "      <td>113.030361</td>\n",
       "      <td>HARD</td>\n",
       "      <td>32.394111</td>\n",
       "      <td>50.024278</td>\n",
       "      <td>30.611972</td>\n",
       "      <td>21.787179</td>\n",
       "      <td>36.083974</td>\n",
       "      <td>40.519231</td>\n",
       "      <td>1.519231</td>\n",
       "      <td>7.004</td>\n",
       "    </tr>\n",
       "    <tr>\n",
       "      <th>2</th>\n",
       "      <td>2022</td>\n",
       "      <td>Belgium</td>\n",
       "      <td>11</td>\n",
       "      <td>Red Bull Racing</td>\n",
       "      <td>104.462</td>\n",
       "      <td>112.844444</td>\n",
       "      <td>MEDIUM</td>\n",
       "      <td>32.200389</td>\n",
       "      <td>50.053750</td>\n",
       "      <td>30.590306</td>\n",
       "      <td>21.787179</td>\n",
       "      <td>36.083974</td>\n",
       "      <td>40.519231</td>\n",
       "      <td>1.519231</td>\n",
       "      <td>7.004</td>\n",
       "    </tr>\n",
       "    <tr>\n",
       "      <th>3</th>\n",
       "      <td>2022</td>\n",
       "      <td>Belgium</td>\n",
       "      <td>16</td>\n",
       "      <td>Ferrari</td>\n",
       "      <td>104.551</td>\n",
       "      <td>113.913444</td>\n",
       "      <td>MEDIUM</td>\n",
       "      <td>32.284222</td>\n",
       "      <td>50.793306</td>\n",
       "      <td>30.835917</td>\n",
       "      <td>21.787179</td>\n",
       "      <td>36.083974</td>\n",
       "      <td>40.519231</td>\n",
       "      <td>1.519231</td>\n",
       "      <td>7.004</td>\n",
       "    </tr>\n",
       "    <tr>\n",
       "      <th>4</th>\n",
       "      <td>2022</td>\n",
       "      <td>Belgium</td>\n",
       "      <td>31</td>\n",
       "      <td>Alpine</td>\n",
       "      <td>105.180</td>\n",
       "      <td>114.182361</td>\n",
       "      <td>MEDIUM</td>\n",
       "      <td>32.234222</td>\n",
       "      <td>51.148861</td>\n",
       "      <td>30.799278</td>\n",
       "      <td>21.787179</td>\n",
       "      <td>36.083974</td>\n",
       "      <td>40.519231</td>\n",
       "      <td>1.519231</td>\n",
       "      <td>7.004</td>\n",
       "    </tr>\n",
       "  </tbody>\n",
       "</table>\n",
       "</div>"
      ],
      "text/plain": [
       "   Year     Race  Driver             Team  QualiTime  RaceTimeAvg Compound  \\\n",
       "0  2022  Belgium       1  Red Bull Racing    103.665   112.384750   MEDIUM   \n",
       "1  2022  Belgium      55          Ferrari    104.297   113.030361     HARD   \n",
       "2  2022  Belgium      11  Red Bull Racing    104.462   112.844444   MEDIUM   \n",
       "3  2022  Belgium      16          Ferrari    104.551   113.913444   MEDIUM   \n",
       "4  2022  Belgium      31           Alpine    105.180   114.182361   MEDIUM   \n",
       "\n",
       "   Sector1Avg  Sector2Avg  Sector3Avg    AirTemp  TrackTemp   Humidity  \\\n",
       "0   32.071028   49.834972   30.478750  21.787179  36.083974  40.519231   \n",
       "1   32.394111   50.024278   30.611972  21.787179  36.083974  40.519231   \n",
       "2   32.200389   50.053750   30.590306  21.787179  36.083974  40.519231   \n",
       "3   32.284222   50.793306   30.835917  21.787179  36.083974  40.519231   \n",
       "4   32.234222   51.148861   30.799278  21.787179  36.083974  40.519231   \n",
       "\n",
       "   WindSpeed  TrackLengthKM  \n",
       "0   1.519231          7.004  \n",
       "1   1.519231          7.004  \n",
       "2   1.519231          7.004  \n",
       "3   1.519231          7.004  \n",
       "4   1.519231          7.004  "
      ]
     },
     "execution_count": 35,
     "metadata": {},
     "output_type": "execute_result"
    }
   ],
   "source": [
    "data = pd.read_csv(\"../data_store/race_quali_data.csv\")\n",
    "data.head()"
   ]
  },
  {
   "cell_type": "code",
   "execution_count": null,
   "id": "4a516105",
   "metadata": {},
   "outputs": [],
   "source": []
  }
 ],
 "metadata": {
  "kernelspec": {
   "display_name": "Python 3",
   "language": "python",
   "name": "python3"
  },
  "language_info": {
   "codemirror_mode": {
    "name": "ipython",
    "version": 3
   },
   "file_extension": ".py",
   "mimetype": "text/x-python",
   "name": "python",
   "nbconvert_exporter": "python",
   "pygments_lexer": "ipython3",
   "version": "3.11.13"
  }
 },
 "nbformat": 4,
 "nbformat_minor": 5
}
