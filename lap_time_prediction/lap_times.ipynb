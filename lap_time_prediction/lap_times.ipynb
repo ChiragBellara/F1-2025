{
 "cells": [
  {
   "cell_type": "code",
   "execution_count": 1,
   "id": "4e7185d5",
   "metadata": {},
   "outputs": [],
   "source": [
    "import fastf1\n",
    "from fastf1 import plotting\n",
    "from fastf1.ergast import Ergast\n",
    "import pandas as pd\n",
    "import numpy as np\n",
    "import matplotlib.pyplot as plt"
   ]
  },
  {
   "cell_type": "code",
   "execution_count": 3,
   "id": "9cddc1b5",
   "metadata": {},
   "outputs": [],
   "source": [
    "# Enable cache to reduce rate limit on repeated requests\n",
    "fastf1.Cache.enable_cache('f1_cache')"
   ]
  },
  {
   "cell_type": "code",
   "execution_count": 7,
   "id": "8790eb90",
   "metadata": {},
   "outputs": [
    {
     "name": "stderr",
     "output_type": "stream",
     "text": [
      "core           INFO \tLoading data for Japanese Grand Prix - Qualifying [v3.5.3]\n",
      "req            INFO \tNo cached data found for session_info. Loading data...\n",
      "_api           INFO \tFetching session info data...\n"
     ]
    },
    {
     "name": "stderr",
     "output_type": "stream",
     "text": [
      "req            INFO \tData has been written to cache!\n",
      "req            INFO \tNo cached data found for driver_info. Loading data...\n",
      "_api           INFO \tFetching driver list...\n",
      "req            INFO \tData has been written to cache!\n",
      "req            INFO \tNo cached data found for session_status_data. Loading data...\n",
      "_api           INFO \tFetching session status data...\n",
      "req            INFO \tData has been written to cache!\n",
      "req            INFO \tNo cached data found for track_status_data. Loading data...\n",
      "_api           INFO \tFetching track status data...\n",
      "req            INFO \tData has been written to cache!\n",
      "req            INFO \tNo cached data found for _extended_timing_data. Loading data...\n",
      "_api           INFO \tFetching timing data...\n",
      "_api           INFO \tParsing timing data...\n",
      "req            INFO \tData has been written to cache!\n",
      "req            INFO \tNo cached data found for timing_app_data. Loading data...\n",
      "_api           INFO \tFetching timing app data...\n",
      "req            INFO \tData has been written to cache!\n",
      "core           INFO \tProcessing timing data...\n",
      "req            INFO \tNo cached data found for car_data. Loading data...\n",
      "_api           INFO \tFetching car data...\n",
      "_api           INFO \tParsing car data...\n",
      "req            INFO \tData has been written to cache!\n",
      "req            INFO \tNo cached data found for position_data. Loading data...\n",
      "_api           INFO \tFetching position data...\n",
      "_api           INFO \tParsing position data...\n",
      "req            INFO \tData has been written to cache!\n",
      "req            INFO \tNo cached data found for weather_data. Loading data...\n",
      "_api           INFO \tFetching weather data...\n",
      "req            INFO \tData has been written to cache!\n",
      "req            INFO \tNo cached data found for race_control_messages. Loading data...\n",
      "_api           INFO \tFetching race control messages...\n",
      "req            INFO \tData has been written to cache!\n",
      "core           INFO \tFinished loading data for 20 drivers: ['1', '4', '81', '16', '63', '12', '6', '44', '23', '87', '10', '55', '14', '30', '22', '27', '5', '31', '7', '18']\n"
     ]
    }
   ],
   "source": [
    "# Load a Race -> example Suzuka 2025\n",
    "session = fastf1.get_session(2025, 'Japan', 'Q')\n",
    "session.load()"
   ]
  },
  {
   "cell_type": "code",
   "execution_count": 13,
   "id": "4e737b3d",
   "metadata": {},
   "outputs": [
    {
     "data": {
      "text/plain": [
       "Index(['Time', 'Driver', 'DriverNumber', 'LapTime', 'LapNumber', 'Stint',\n",
       "       'PitOutTime', 'PitInTime', 'Sector1Time', 'Sector2Time', 'Sector3Time',\n",
       "       'Sector1SessionTime', 'Sector2SessionTime', 'Sector3SessionTime',\n",
       "       'SpeedI1', 'SpeedI2', 'SpeedFL', 'SpeedST', 'IsPersonalBest',\n",
       "       'Compound', 'TyreLife', 'FreshTyre', 'Team', 'LapStartTime',\n",
       "       'LapStartDate', 'TrackStatus', 'Position', 'Deleted', 'DeletedReason',\n",
       "       'FastF1Generated', 'IsAccurate'],\n",
       "      dtype='object')"
      ]
     },
     "execution_count": 13,
     "metadata": {},
     "output_type": "execute_result"
    }
   ],
   "source": [
    "session.laps.columns"
   ]
  },
  {
   "cell_type": "code",
   "execution_count": 16,
   "id": "f9097df1",
   "metadata": {},
   "outputs": [],
   "source": [
    "laps = session.laps.pick_accurate()\n",
    "laps = laps[~laps['PitOutTime'].notna() & ~laps['PitInTime'].notna()]"
   ]
  },
  {
   "cell_type": "code",
   "execution_count": 18,
   "id": "41632efc",
   "metadata": {},
   "outputs": [],
   "source": [
    "laps['S1'] = laps['Sector1Time'].dt.total_seconds()\n",
    "laps['S2'] = laps['Sector2Time'].dt.total_seconds()\n",
    "laps['S3'] = laps['Sector3Time'].dt.total_seconds()"
   ]
  },
  {
   "cell_type": "code",
   "execution_count": 19,
   "id": "f5aeb57c",
   "metadata": {},
   "outputs": [
    {
     "name": "stdout",
     "output_type": "stream",
     "text": [
      "  Sector 1: 31.995\n",
      "  Sector 2: 40.512\n",
      "  Sector 3: 17.872\n"
     ]
    }
   ],
   "source": [
    "average_s1 = laps['S1'].mean()\n",
    "average_s2 = laps['S2'].mean()\n",
    "average_s3 = laps['S3'].mean()\n",
    "\n",
    "print(f\"  Sector 1: {average_s1:.3f}\")\n",
    "print(f\"  Sector 2: {average_s2:.3f}\")\n",
    "print(f\"  Sector 3: {average_s3:.3f}\")"
   ]
  },
  {
   "cell_type": "markdown",
   "id": "e9aa87ba",
   "metadata": {},
   "source": [
    "##### Getting the sector times of all drivers from 2022 to 2025 and calculating average time per sector."
   ]
  },
  {
   "cell_type": "code",
   "execution_count": 20,
   "id": "be9ee892",
   "metadata": {},
   "outputs": [],
   "source": [
    "years = [2022, 2023, 2024, 2025]    # From 2022 because the weight limits on the car were changed in 2022 and have been consistent since.\n",
    "circuit = \"Japan\"\n",
    "sector_times = []"
   ]
  },
  {
   "cell_type": "code",
   "execution_count": 21,
   "id": "e03d5405",
   "metadata": {},
   "outputs": [
    {
     "name": "stderr",
     "output_type": "stream",
     "text": [
      "logger      WARNING \tFailed to load schedule from FastF1 backend!\n",
      "req            INFO \tNo cached data found for season_schedule. Loading data...\n",
      "_api           INFO \tFetching season schedule...\n",
      "req            INFO \tData has been written to cache!\n",
      "core           INFO \tLoading data for Japanese Grand Prix - Qualifying [v3.5.3]\n",
      "req            INFO \tNo cached data found for session_info. Loading data...\n",
      "_api           INFO \tFetching session info data...\n",
      "req            INFO \tData has been written to cache!\n",
      "req            INFO \tNo cached data found for driver_info. Loading data...\n",
      "_api           INFO \tFetching driver list...\n",
      "req            INFO \tData has been written to cache!\n",
      "req            INFO \tNo cached data found for session_status_data. Loading data...\n",
      "_api           INFO \tFetching session status data...\n",
      "req            INFO \tData has been written to cache!\n",
      "req            INFO \tNo cached data found for track_status_data. Loading data...\n",
      "_api           INFO \tFetching track status data...\n",
      "req            INFO \tData has been written to cache!\n",
      "req            INFO \tNo cached data found for _extended_timing_data. Loading data...\n",
      "_api           INFO \tFetching timing data...\n",
      "_api           INFO \tParsing timing data...\n",
      "req            INFO \tData has been written to cache!\n",
      "req            INFO \tNo cached data found for timing_app_data. Loading data...\n",
      "_api           INFO \tFetching timing app data...\n",
      "req            INFO \tData has been written to cache!\n",
      "core           INFO \tProcessing timing data...\n",
      "req            INFO \tNo cached data found for car_data. Loading data...\n",
      "_api           INFO \tFetching car data...\n",
      "_api           INFO \tParsing car data...\n",
      "req            INFO \tData has been written to cache!\n",
      "req            INFO \tNo cached data found for position_data. Loading data...\n",
      "_api           INFO \tFetching position data...\n",
      "_api           INFO \tParsing position data...\n",
      "req            INFO \tData has been written to cache!\n",
      "req            INFO \tNo cached data found for weather_data. Loading data...\n",
      "_api           INFO \tFetching weather data...\n",
      "req            INFO \tData has been written to cache!\n",
      "req            INFO \tNo cached data found for race_control_messages. Loading data...\n",
      "_api           INFO \tFetching race control messages...\n",
      "req            INFO \tData has been written to cache!\n",
      "core           INFO \tFinished loading data for 20 drivers: ['1', '16', '55', '11', '31', '44', '14', '63', '5', '4', '3', '77', '22', '24', '47', '23', '10', '20', '18', '6']\n",
      "core           INFO \tLoading data for Japanese Grand Prix - Qualifying [v3.5.3]\n",
      "req            INFO \tNo cached data found for session_info. Loading data...\n",
      "_api           INFO \tFetching session info data...\n",
      "req            INFO \tData has been written to cache!\n",
      "req            INFO \tNo cached data found for driver_info. Loading data...\n",
      "_api           INFO \tFetching driver list...\n",
      "req            INFO \tData has been written to cache!\n",
      "req            INFO \tNo cached data found for session_status_data. Loading data...\n",
      "_api           INFO \tFetching session status data...\n",
      "req            INFO \tData has been written to cache!\n",
      "req            INFO \tNo cached data found for track_status_data. Loading data...\n",
      "_api           INFO \tFetching track status data...\n",
      "req            INFO \tData has been written to cache!\n",
      "req            INFO \tNo cached data found for _extended_timing_data. Loading data...\n",
      "_api           INFO \tFetching timing data...\n",
      "_api           INFO \tParsing timing data...\n",
      "req            INFO \tData has been written to cache!\n",
      "req            INFO \tNo cached data found for timing_app_data. Loading data...\n",
      "_api           INFO \tFetching timing app data...\n",
      "req            INFO \tData has been written to cache!\n",
      "core           INFO \tProcessing timing data...\n",
      "req            INFO \tNo cached data found for car_data. Loading data...\n",
      "_api           INFO \tFetching car data...\n",
      "_api           INFO \tParsing car data...\n",
      "req            INFO \tData has been written to cache!\n",
      "req            INFO \tNo cached data found for position_data. Loading data...\n",
      "_api           INFO \tFetching position data...\n",
      "_api           INFO \tParsing position data...\n",
      "req            INFO \tData has been written to cache!\n",
      "req            INFO \tNo cached data found for weather_data. Loading data...\n",
      "_api           INFO \tFetching weather data...\n",
      "req            INFO \tData has been written to cache!\n",
      "req            INFO \tNo cached data found for race_control_messages. Loading data...\n",
      "_api           INFO \tFetching race control messages...\n",
      "req            INFO \tData has been written to cache!\n",
      "core           INFO \tFinished loading data for 20 drivers: ['1', '81', '4', '16', '11', '55', '44', '63', '22', '14', '40', '10', '23', '31', '20', '77', '18', '27', '24', '2']\n",
      "core           INFO \tLoading data for Japanese Grand Prix - Qualifying [v3.5.3]\n",
      "req            INFO \tNo cached data found for session_info. Loading data...\n",
      "_api           INFO \tFetching session info data...\n",
      "req            INFO \tData has been written to cache!\n",
      "req            INFO \tNo cached data found for driver_info. Loading data...\n",
      "_api           INFO \tFetching driver list...\n",
      "req            INFO \tData has been written to cache!\n",
      "req            INFO \tNo cached data found for session_status_data. Loading data...\n",
      "_api           INFO \tFetching session status data...\n",
      "req            INFO \tData has been written to cache!\n",
      "req            INFO \tNo cached data found for track_status_data. Loading data...\n",
      "_api           INFO \tFetching track status data...\n",
      "req            INFO \tData has been written to cache!\n",
      "req            INFO \tNo cached data found for _extended_timing_data. Loading data...\n",
      "_api           INFO \tFetching timing data...\n",
      "_api           INFO \tParsing timing data...\n",
      "req            INFO \tData has been written to cache!\n",
      "req            INFO \tNo cached data found for timing_app_data. Loading data...\n",
      "_api           INFO \tFetching timing app data...\n",
      "req            INFO \tData has been written to cache!\n",
      "core           INFO \tProcessing timing data...\n",
      "req            INFO \tNo cached data found for car_data. Loading data...\n",
      "_api           INFO \tFetching car data...\n",
      "_api           INFO \tParsing car data...\n",
      "req            INFO \tData has been written to cache!\n",
      "req            INFO \tNo cached data found for position_data. Loading data...\n",
      "_api           INFO \tFetching position data...\n",
      "_api           INFO \tParsing position data...\n",
      "req            INFO \tData has been written to cache!\n",
      "req            INFO \tNo cached data found for weather_data. Loading data...\n",
      "_api           INFO \tFetching weather data...\n",
      "req            INFO \tData has been written to cache!\n",
      "req            INFO \tNo cached data found for race_control_messages. Loading data...\n",
      "_api           INFO \tFetching race control messages...\n",
      "req            INFO \tData has been written to cache!\n",
      "core           INFO \tFinished loading data for 20 drivers: ['1', '11', '4', '55', '14', '81', '44', '16', '63', '22', '3', '27', '77', '23', '31', '18', '10', '20', '2', '24']\n",
      "core           INFO \tLoading data for Japanese Grand Prix - Qualifying [v3.5.3]\n",
      "req            INFO \tUsing cached data for session_info\n",
      "req            INFO \tUsing cached data for driver_info\n",
      "req            INFO \tUsing cached data for session_status_data\n",
      "req            INFO \tUsing cached data for track_status_data\n",
      "req            INFO \tUsing cached data for _extended_timing_data\n",
      "req            INFO \tUsing cached data for timing_app_data\n",
      "core           INFO \tProcessing timing data...\n",
      "req            INFO \tUsing cached data for car_data\n",
      "req            INFO \tUsing cached data for position_data\n",
      "req            INFO \tUsing cached data for weather_data\n",
      "req            INFO \tUsing cached data for race_control_messages\n",
      "core           INFO \tFinished loading data for 20 drivers: ['1', '4', '81', '16', '63', '12', '6', '44', '23', '87', '10', '55', '14', '30', '22', '27', '5', '31', '7', '18']\n"
     ]
    }
   ],
   "source": [
    "for year in years:\n",
    "    session = fastf1.get_session(year, circuit, \"Q\")\n",
    "    try:\n",
    "        session.load()\n",
    "        laps = session.laps.pick_accurate()\n",
    "        laps = laps[~laps['PitOutTime'].notna() & ~laps['PitInTime'].notna()]\n",
    "        sector1 = laps['Sector1Time'].dt.total_seconds().mean()\n",
    "        sector2 = laps['Sector2Time'].dt.total_seconds().mean()\n",
    "        sector3 = laps['Sector3Time'].dt.total_seconds().mean()\n",
    "\n",
    "        sector_times.append({\n",
    "                'Year': year, 'Sector1': sector1, 'Sector2': sector2, 'Sector3': sector3\n",
    "            })\n",
    "    except Exception as e:\n",
    "        print(f\"Error loading {year} {circuit} GP: {e}\")\n",
    "\n",
    "df_sector_avg = pd.DataFrame(sector_times)"
   ]
  },
  {
   "cell_type": "code",
   "execution_count": 22,
   "id": "02f0bb94",
   "metadata": {},
   "outputs": [
    {
     "data": {
      "text/html": [
       "<div>\n",
       "<style scoped>\n",
       "    .dataframe tbody tr th:only-of-type {\n",
       "        vertical-align: middle;\n",
       "    }\n",
       "\n",
       "    .dataframe tbody tr th {\n",
       "        vertical-align: top;\n",
       "    }\n",
       "\n",
       "    .dataframe thead th {\n",
       "        text-align: right;\n",
       "    }\n",
       "</style>\n",
       "<table border=\"1\" class=\"dataframe\">\n",
       "  <thead>\n",
       "    <tr style=\"text-align: right;\">\n",
       "      <th></th>\n",
       "      <th>Year</th>\n",
       "      <th>Sector1</th>\n",
       "      <th>Sector2</th>\n",
       "      <th>Sector3</th>\n",
       "    </tr>\n",
       "  </thead>\n",
       "  <tbody>\n",
       "    <tr>\n",
       "      <th>0</th>\n",
       "      <td>2022</td>\n",
       "      <td>32.627793</td>\n",
       "      <td>41.718414</td>\n",
       "      <td>18.723943</td>\n",
       "    </tr>\n",
       "    <tr>\n",
       "      <th>1</th>\n",
       "      <td>2023</td>\n",
       "      <td>31.586453</td>\n",
       "      <td>40.902160</td>\n",
       "      <td>18.140720</td>\n",
       "    </tr>\n",
       "    <tr>\n",
       "      <th>2</th>\n",
       "      <td>2024</td>\n",
       "      <td>31.398919</td>\n",
       "      <td>40.353919</td>\n",
       "      <td>17.804892</td>\n",
       "    </tr>\n",
       "    <tr>\n",
       "      <th>3</th>\n",
       "      <td>2025</td>\n",
       "      <td>31.994800</td>\n",
       "      <td>40.511690</td>\n",
       "      <td>17.871660</td>\n",
       "    </tr>\n",
       "  </tbody>\n",
       "</table>\n",
       "</div>"
      ],
      "text/plain": [
       "   Year    Sector1    Sector2    Sector3\n",
       "0  2022  32.627793  41.718414  18.723943\n",
       "1  2023  31.586453  40.902160  18.140720\n",
       "2  2024  31.398919  40.353919  17.804892\n",
       "3  2025  31.994800  40.511690  17.871660"
      ]
     },
     "execution_count": 22,
     "metadata": {},
     "output_type": "execute_result"
    }
   ],
   "source": [
    "df_sector_avg"
   ]
  },
  {
   "cell_type": "code",
   "execution_count": 23,
   "id": "024c42a5",
   "metadata": {},
   "outputs": [],
   "source": [
    "best_s1_per_driver = {}"
   ]
  },
  {
   "cell_type": "code",
   "execution_count": 26,
   "id": "9f4a9a3d",
   "metadata": {},
   "outputs": [
    {
     "name": "stderr",
     "output_type": "stream",
     "text": [
      "/opt/homebrew/lib/python3.11/site-packages/fastf1/core.py:3067: FutureWarning: pick_driver is deprecated and will be removed in a future release. Use pick_drivers instead.\n",
      "  warnings.warn((\"pick_driver is deprecated and will be removed\"\n"
     ]
    }
   ],
   "source": [
    "for drv in session.drivers:\n",
    "    laps = session.laps.pick_driver(drv).pick_accurate()\n",
    "    s1_times = laps['Sector1Time'].dropna().dt.total_seconds()\n",
    "    if not s1_times.empty:\n",
    "        best_s1_per_driver[drv] = s1_times.min()"
   ]
  },
  {
   "cell_type": "code",
   "execution_count": 29,
   "id": "797ec7f7",
   "metadata": {},
   "outputs": [],
   "source": [
    "df_all_sector1 = pd.DataFrame({\n",
    "    'Driver': list(best_s1_per_driver.keys()),\n",
    "    'Best_Sector1': list(best_s1_per_driver.values())\n",
    "})"
   ]
  },
  {
   "cell_type": "code",
   "execution_count": 31,
   "id": "d8678b86",
   "metadata": {},
   "outputs": [
    {
     "data": {
      "image/png": "[encoded data removed]",
      "text/plain": [
       "<Figure size 1200x600 with 1 Axes>"
      ]
     },
     "metadata": {},
     "output_type": "display_data"
    }
   ],
   "source": [
    "plt.figure(figsize=(12, 6))\n",
    "plt.barh(df_all_sector1['Driver'], df_all_sector1['Best_Sector1'], color='skyblue', label='Best S1 Time')\n",
    "# plt.axvline(avg_s1_time, color='red', linestyle='--', label='Avg S1 Time (2022–2025)')\n",
    "plt.xlabel(\"Sector 1 Time (s)\")\n",
    "plt.title(f\"Driver Sector 1 Comparison – 2025 {circuit} GP\")\n",
    "plt.legend()\n",
    "plt.gca().invert_yaxis()\n",
    "plt.tight_layout()\n",
    "plt.show()"
   ]
  },
  {
   "cell_type": "code",
   "execution_count": null,
   "id": "ec1fa4df",
   "metadata": {},
   "outputs": [],
   "source": []
  }
 ],
 "metadata": {
  "kernelspec": {
   "display_name": "Python 3",
   "language": "python",
   "name": "python3"
  },
  "language_info": {
   "codemirror_mode": {
    "name": "ipython",
    "version": 3
   },
   "file_extension": ".py",
   "mimetype": "text/x-python",
   "name": "python",
   "nbconvert_exporter": "python",
   "pygments_lexer": "ipython3",
   "version": "3.11.13"
  }
 },
 "nbformat": 4,
 "nbformat_minor": 5
}
