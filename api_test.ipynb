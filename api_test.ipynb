{
 "cells": [
  {
   "cell_type": "code",
   "execution_count": 12,
   "id": "b2242406",
   "metadata": {},
   "outputs": [],
   "source": [
    "import fastf1"
   ]
  },
  {
   "cell_type": "code",
   "execution_count": 13,
   "id": "10da3fec",
   "metadata": {},
   "outputs": [],
   "source": [
    "session = fastf1.get_session(2025, 'british', 'Race')    # British GP"
   ]
  },
  {
   "cell_type": "code",
   "execution_count": 14,
   "id": "5621154d",
   "metadata": {},
   "outputs": [
    {
     "data": {
      "text/plain": [
       "'Race'"
      ]
     },
     "execution_count": 14,
     "metadata": {},
     "output_type": "execute_result"
    }
   ],
   "source": [
    "session.name"
   ]
  },
  {
   "cell_type": "code",
   "execution_count": null,
   "id": "44a3370f",
   "metadata": {},
   "outputs": [],
   "source": []
  }
 ],
 "metadata": {
  "kernelspec": {
   "display_name": "Python 3",
   "language": "python",
   "name": "python3"
  },
  "language_info": {
   "codemirror_mode": {
    "name": "ipython",
    "version": 3
   },
   "file_extension": ".py",
   "mimetype": "text/x-python",
   "name": "python",
   "nbconvert_exporter": "python",
   "pygments_lexer": "ipython3",
   "version": "3.11.13"
  }
 },
 "nbformat": 4,
 "nbformat_minor": 5
}
